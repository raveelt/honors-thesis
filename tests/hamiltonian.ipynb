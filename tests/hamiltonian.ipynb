{
 "cells": [
  {
   "cell_type": "code",
   "execution_count": 1,
   "id": "b812a7ea-92c6-4a63-9505-168315363cee",
   "metadata": {},
   "outputs": [],
   "source": [
    "from itertools import permutations\n",
    "import numpy as np\n",
    "\n",
    "def hamiltonian_cycles(cities, symmetric = False):\n",
    "    'returns a list of all possible hamiltonian cycles for a given list of cities'\n",
    "    start = cities[0]\n",
    "    cycles = []\n",
    "    for permutation in permutations(cities[1:]):\n",
    "        cycle = start + ''.join(permutation) + start\n",
    "        if symmetric:\n",
    "            if cycle[::-1] not in cycles:\n",
    "                cycles.append(cycle)\n",
    "        else:\n",
    "            cycles.append(cycle)\n",
    "    return cycles\n",
    "\n",
    "def map_indices(cities, symmetric = False):\n",
    "    'returns all the hamiltonian cycles and the indices'\n",
    "    cycles = hamiltonian_cycles(cities, symmetric = symmetric)\n",
    "    index_map = {cities[i]: str(range(len(cities))[i]) for i in range(len(cities))}\n",
    "    indices_cycles = []\n",
    "    for cycle in cycles:\n",
    "        indices_city = ''\n",
    "        for city in cycle[1:]:\n",
    "            indices_city += index_map[city]    \n",
    "        indices_cycles.append(indices_city)\n",
    "    return cycles, indices_cycles  \n",
    "\n",
    "def sort_indices(cycles, indices_cycles):\n",
    "    'sorts the indices'\n",
    "    results = []\n",
    "    for cycle, index in zip(cycles, indices_cycles):\n",
    "        pairs = list(zip(cycle, index)) \n",
    "        sorted_pairs = sorted(pairs, key = lambda pair: pair[0]) # sorts by city name\n",
    "        sorted_index = ''.join([pair[1] for pair in sorted_pairs])\n",
    "        results.append([cycle, index, sorted_index])\n",
    "    return results"
   ]
  },
  {
   "cell_type": "code",
   "execution_count": 2,
   "id": "ced2a704-1070-43e7-856f-13849cd30781",
   "metadata": {},
   "outputs": [
    {
     "data": {
      "text/plain": [
       "(['ABCDA', 'ABDCA', 'ACBDA', 'ACDBA', 'ADBCA', 'ADCBA'],\n",
       " ['1230', '1320', '2130', '2310', '3120', '3210'])"
      ]
     },
     "execution_count": 2,
     "metadata": {},
     "output_type": "execute_result"
    }
   ],
   "source": [
    "# cities = ['A', 'B', 'C', 'D']\n",
    "# cycles, indices_cycles = map_indices(cities, symmetric = False)\n",
    "# cycles, indices_cycles"
   ]
  },
  {
   "cell_type": "code",
   "execution_count": 3,
   "id": "1b2df512-2b5c-41cd-a79a-f8cf39750e84",
   "metadata": {},
   "outputs": [
    {
     "name": "stdout",
     "output_type": "stream",
     "text": [
      "cycle, index, sorted_index\n"
     ]
    },
    {
     "data": {
      "text/plain": [
       "[['ABCDA', '1230', '1230'],\n",
       " ['ABDCA', '1320', '1302'],\n",
       " ['ACBDA', '2130', '2310'],\n",
       " ['ACDBA', '2310', '2031'],\n",
       " ['ADBCA', '3120', '3201'],\n",
       " ['ADCBA', '3210', '3012']]"
      ]
     },
     "execution_count": 3,
     "metadata": {},
     "output_type": "execute_result"
    }
   ],
   "source": [
    "# table = sort_indices(cycles, indices_cycles)\n",
    "# print(\"cycle, index, sorted_index\")\n",
    "# table"
   ]
  },
  {
   "cell_type": "code",
   "execution_count": 4,
   "id": "33ccfb21-fa48-44d9-99f8-ee44f23b6807",
   "metadata": {},
   "outputs": [
    {
     "name": "stdout",
     "output_type": "stream",
     "text": [
      "cycle, index, sorted_index, base 10, base 2 \n",
      " [['ABCDA' '1230' '1230' '108' '1101100']\n",
      " ['ABDCA' '1320' '1302' '114' '1110010']\n",
      " ['ACBDA' '2130' '2310' '180' '10110100']\n",
      " ['ACDBA' '2310' '2031' '141' '10001101']\n",
      " ['ADBCA' '3120' '3201' '225' '11100001']\n",
      " ['ADCBA' '3210' '3012' '198' '11000110']]\n"
     ]
    }
   ],
   "source": [
    "# # Base 10 and 2 conversions\n",
    "# table = np.array(table)\n",
    "# indices = table[:,2]\n",
    "# base_10 = np.array([int(indices[i], len(cities)) for i in range(len(indices))])\n",
    "# base_2  = np.array([\"{0:b}\".format(base_10[i]) for i in range(len(base_10))]) \n",
    "# table = np.append(table, base_10.reshape(-1,1), axis=1)\n",
    "# table = np.append(table, base_2.reshape(-1,1), axis=1)\n",
    "# print(\"cycle, index, sorted_index, base 10, base 2 \\n\",table)"
   ]
  },
  {
   "cell_type": "code",
   "execution_count": null,
   "id": "212c4790-4e2c-44d9-9fe5-a1e16d12dc01",
   "metadata": {},
   "outputs": [],
   "source": []
  }
 ],
 "metadata": {
  "kernelspec": {
   "display_name": "Python 3 (ipykernel)",
   "language": "python",
   "name": "python3"
  },
  "language_info": {
   "codemirror_mode": {
    "name": "ipython",
    "version": 3
   },
   "file_extension": ".py",
   "mimetype": "text/x-python",
   "name": "python",
   "nbconvert_exporter": "python",
   "pygments_lexer": "ipython3",
   "version": "3.10.8"
  }
 },
 "nbformat": 4,
 "nbformat_minor": 5
}
