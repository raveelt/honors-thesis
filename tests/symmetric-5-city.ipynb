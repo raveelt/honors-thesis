{
 "cells": [
  {
   "cell_type": "code",
   "execution_count": 1,
   "id": "83331247-7eb0-4564-a9cf-2fb8a9581a13",
   "metadata": {},
   "outputs": [],
   "source": [
    "import numpy as np\n",
    "from matplotlib import pyplot as plt\n",
    "import math\n",
    "\n",
    "# for circuit construction\n",
    "from qiskit import QuantumCircuit, ClassicalRegister, QuantumRegister\n",
    "\n",
    "# QFT circuit needed for phase estimation\n",
    "from qiskit.circuit.library import QFT\n",
    "\n",
    "# for creating custom gates\n",
    "from qiskit import quantum_info as qi\n",
    "\n",
    "# for simulation\n",
    "from qiskit_aer import Aer\n",
    "from qiskit import transpile\n",
    "from qiskit.visualization import plot_histogram\n",
    "\n",
    "# for storing data later\n",
    "import pandas as pd"
   ]
  },
  {
   "cell_type": "code",
   "execution_count": 2,
   "id": "d569fe60-be77-4bdf-9b55-bcdd6996b05e",
   "metadata": {},
   "outputs": [],
   "source": [
    "%run 'hamiltonian.ipynb' ## to get the hamiltonian cycles function\n",
    "\n",
    "cities = [\"A\", \"B\", \"C\", \"D\", \"E\"]\n",
    "cycles = hamiltonian_cycles(cities, symmetric = True)"
   ]
  },
  {
   "cell_type": "code",
   "execution_count": 3,
   "id": "e7ebc342-4109-41ed-b0e4-48b3802554b6",
   "metadata": {},
   "outputs": [
    {
     "data": {
      "text/plain": [
       "['ABCDEA',\n",
       " 'ABCEDA',\n",
       " 'ABDCEA',\n",
       " 'ABDECA',\n",
       " 'ABECDA',\n",
       " 'ABEDCA',\n",
       " 'ACBDEA',\n",
       " 'ACBEDA',\n",
       " 'ACDBEA',\n",
       " 'ACEBDA',\n",
       " 'ADBCEA',\n",
       " 'ADCBEA']"
      ]
     },
     "execution_count": 3,
     "metadata": {},
     "output_type": "execute_result"
    }
   ],
   "source": [
    "cycles"
   ]
  },
  {
   "cell_type": "code",
   "execution_count": 4,
   "id": "bb7147ba-1e92-440f-bb57-50f9335c7632",
   "metadata": {},
   "outputs": [],
   "source": [
    "def hamiltonian_sum(cycle, edge_weights):\n",
    "    return sum(edge_weights[(list(cycle)[i], list(cycle)[i+1])] for i in range(len(cycle) - 1))"
   ]
  },
  {
   "cell_type": "code",
   "execution_count": 5,
   "id": "53479653-292d-4e9f-abbb-12b1ed742845",
   "metadata": {},
   "outputs": [
    {
     "data": {
      "text/plain": [
       "[31, 22, 33, 24, 30, 30, 23, 20, 31, 22, 23, 29]"
      ]
     },
     "execution_count": 5,
     "metadata": {},
     "output_type": "execute_result"
    }
   ],
   "source": [
    "edge_weights = {\n",
    "    ('A', 'B'): 10,\n",
    "    ('A', 'C'): 5,\n",
    "    ('A', 'D'): 7,\n",
    "    ('A', 'E'): 9,\n",
    "    ('B', 'C'): 1,\n",
    "    ('B', 'D'): 5,\n",
    "    ('B', 'E'): 4,\n",
    "    ('C', 'D'): 8,\n",
    "    ('C', 'E'): 1,\n",
    "    ('D', 'E'): 3,\n",
    "}\n",
    "\n",
    "# ensuring edge-weights are bi-directional\n",
    "for (city1, city2), weight in list(edge_weights.items()):\n",
    "    edge_weights[(city2, city1)] = weight\n",
    "\n",
    "cycle_weights = [hamiltonian_sum(cycle, edge_weights) for cycle in cycles]\n",
    "cycle_weights"
   ]
  },
  {
   "cell_type": "code",
   "execution_count": 6,
   "id": "50b73bb1-d24e-468b-91ac-d2f99b65c7f8",
   "metadata": {},
   "outputs": [
    {
     "data": {
      "text/plain": [
       "[12, 12, 14, 14, 20, 20, 14, 20, 22, 22, 14, 20]"
      ]
     },
     "execution_count": 6,
     "metadata": {},
     "output_type": "execute_result"
    }
   ],
   "source": [
    "## weights not satisfying constraints set to zero\n",
    "\n",
    "edge_weights_c = {\n",
    "    ('A', 'B'): 0,\n",
    "    ('A', 'C'): 5,\n",
    "    ('A', 'D'): 7,\n",
    "    ('A', 'E'): 0,\n",
    "    ('B', 'C'): 1,\n",
    "    ('B', 'D'): 5,\n",
    "    ('B', 'E'): 4,\n",
    "    ('C', 'D'): 8,\n",
    "    ('C', 'E'): 1,\n",
    "    ('D', 'E'): 3,\n",
    "}\n",
    "\n",
    "for (city1, city2), weight in list(edge_weights_c.items()):\n",
    "    edge_weights_c[(city2, city1)] = weight\n",
    "    \n",
    "cycle_weights_c = [hamiltonian_sum(cycle, edge_weights_c) for cycle in cycles]\n",
    "cycle_weights_c"
   ]
  },
  {
   "cell_type": "code",
   "execution_count": 7,
   "id": "a634e375-d1af-46ad-8306-ccde4b410ec9",
   "metadata": {},
   "outputs": [
    {
     "name": "stdout",
     "output_type": "stream",
     "text": [
      "[7 9]\n"
     ]
    },
    {
     "data": {
      "text/plain": [
       "array(['ACBEDA', 'ACEBDA'], dtype='<U6')"
      ]
     },
     "execution_count": 7,
     "metadata": {},
     "output_type": "execute_result"
    }
   ],
   "source": [
    "#solutions\n",
    "indices = np.where(np.array(cycle_weights) == np.array(cycle_weights_c))[0]\n",
    "print(indices)\n",
    "np.array(cycles)[indices]"
   ]
  },
  {
   "cell_type": "code",
   "execution_count": 8,
   "id": "56f99c79-b81b-48a0-b655-a6ff0ff655ef",
   "metadata": {},
   "outputs": [
    {
     "data": {
      "text/plain": [
       "array([0.25 , 0.125, 0.175, 0.225, 0.025, 0.125, 0.1  , 0.2  , 0.025,\n",
       "       0.075, 0.25 , 0.125, 0.175, 0.225, 0.025, 0.125, 0.1  , 0.2  ,\n",
       "       0.025, 0.075])"
      ]
     },
     "execution_count": 8,
     "metadata": {},
     "output_type": "execute_result"
    }
   ],
   "source": [
    "weights = list(edge_weights.values())\n",
    "\n",
    "#sorting edge weights\n",
    "sorted_weights = np.sort(weights)[::-1]\n",
    "\n",
    "# normalization factor\n",
    "S = np.sum(sorted_weights[:4])\n",
    "\n",
    "# epsilon\n",
    "eps = 2\n",
    "\n",
    "weights = weights / (S + eps)\n",
    "weights"
   ]
  },
  {
   "cell_type": "code",
   "execution_count": 9,
   "id": "f73d1322-abfa-4640-9a53-db1c75f5d3a2",
   "metadata": {},
   "outputs": [
    {
     "data": {
      "text/plain": [
       "array([[0.775, 0.3  ],\n",
       "       [0.55 , 0.3  ],\n",
       "       [0.825, 0.35 ],\n",
       "       [0.6  , 0.35 ],\n",
       "       [0.75 , 0.5  ],\n",
       "       [0.75 , 0.5  ],\n",
       "       [0.575, 0.35 ],\n",
       "       [0.5  , 0.5  ],\n",
       "       [0.775, 0.55 ],\n",
       "       [0.55 , 0.55 ],\n",
       "       [0.575, 0.35 ],\n",
       "       [0.725, 0.5  ]])"
      ]
     },
     "execution_count": 9,
     "metadata": {},
     "output_type": "execute_result"
    }
   ],
   "source": [
    "for (city1, city2), weight in list(edge_weights.items()):\n",
    "    edge_weights[(city1, city2)] = weight/ (S + eps)\n",
    "\n",
    "for (city1, city2), weight in list(edge_weights_c.items()):\n",
    "    edge_weights_c[(city1, city2)] = weight/ (S + eps)\n",
    "\n",
    "cycle_weights = [hamiltonian_sum(cycle, edge_weights) for cycle in cycles]\n",
    "cycle_weights_c = [hamiltonian_sum(cycle, edge_weights_c) for cycle in cycles]\n",
    "\n",
    "sols = np.zeros((12,2))\n",
    "for i, (cycle, cycle_c) in enumerate(zip(cycle_weights, cycle_weights_c)):\n",
    "    sols[i][0] = np.round(cycle,4)\n",
    "    sols[i][1] = np.round(cycle_c,4)\n",
    "\n",
    "sols"
   ]
  },
  {
   "cell_type": "code",
   "execution_count": 10,
   "id": "8fbc2edb-7a92-431c-a623-1547b538281f",
   "metadata": {},
   "outputs": [],
   "source": [
    "A,  B,   C,  D,  E = [], [], [], [], []\n",
    "Ac, Bc, Cc, Dc, Ec = [], [], [], [], []\n",
    "\n",
    "# Lists to hold all the lists\n",
    "U  = [A, B, C, D, E] # before constraint\n",
    "Uc = [Ac, Bc, Cc, Dc, Ec] # after constraint\n",
    "\n",
    "for i, (city,city_c) in enumerate(zip(U,Uc)):\n",
    "    for j in range(5):\n",
    "        if i != j:\n",
    "            city.append(np.exp(1j * edge_weights[(cities[i], cities[j])] * 2 * np.pi))\n",
    "            city_c.append(np.exp(1j * edge_weights_c[(cities[i], cities[j])] * 2 * np.pi))\n",
    "        else:\n",
    "            city.append(1)\n",
    "            city_c.append(1)\n",
    "            \n",
    "U  = np.kron(np.kron(np.kron(np.kron(A,B),C),D),E)\n",
    "Uc = np.kron(np.kron(np.kron(np.kron(Ac,Bc),Cc),Dc),Ec)\n",
    "\n",
    "\n",
    "m = 12 # number of eigenstate qubits needed\n",
    "filler = 2**12 - U.shape[0] #filler ones needed to have exactly 12 qubits\n",
    "\n",
    "U = np.append(U, np.ones(filler))\n",
    "Uc = np.append(Uc, np.ones(filler))"
   ]
  },
  {
   "cell_type": "code",
   "execution_count": 11,
   "id": "e8a1e961-a69a-440c-8e9f-93e6e9f37079",
   "metadata": {},
   "outputs": [
    {
     "name": "stdout",
     "output_type": "stream",
     "text": [
      "cycle, index, sorted_index, base 10, base 2 \n",
      " [['ABCDEA' '12340' '12340' '970' '1111001010']\n",
      " ['ABCEDA' '12430' '12403' '978' '1111010010']\n",
      " ['ABDCEA' '13240' '13420' '1110' '10001010110']\n",
      " ['ABDECA' '13420' '13042' '1022' '1111111110']\n",
      " ['ABECDA' '14230' '14302' '1202' '10010110010']\n",
      " ['ABEDCA' '14320' '14023' '1138' '10001110010']\n",
      " ['ACBDEA' '21340' '23140' '1670' '11010000110']\n",
      " ['ACBEDA' '21430' '24103' '1778' '11011110010']\n",
      " ['ACDBEA' '23140' '24310' '1830' '11100100110']\n",
      " ['ACEBDA' '24130' '23401' '1726' '11010111110']\n",
      " ['ADBCEA' '31240' '32410' '2230' '100010110110']\n",
      " ['ADCBEA' '32140' '34120' '2410' '100101101010']]\n"
     ]
    }
   ],
   "source": [
    "table = sort_indices(*map_indices(cities, symmetric = True))\n",
    "\n",
    "# Base 10 and 2 conversions\n",
    "table = np.array(table)\n",
    "indices = table[:,2]\n",
    "base_10 = np.array([int(indices[i], len(cities)) for i in range(len(indices))])\n",
    "base_2  = np.array([\"{0:b}\".format(base_10[i]) for i in range(len(base_10))]) \n",
    "table = np.append(table, base_10.reshape(-1,1), axis=1)\n",
    "table = np.append(table, base_2.reshape(-1,1), axis=1)\n",
    "print(\"cycle, index, sorted_index, base 10, base 2 \\n\",table)"
   ]
  },
  {
   "cell_type": "code",
   "execution_count": 12,
   "id": "cbbcaeb5-0f08-47dd-ad4e-a4d203ed862d",
   "metadata": {},
   "outputs": [
    {
     "name": "stdout",
     "output_type": "stream",
     "text": [
      "[[0.775 0.3  ]\n",
      " [0.55  0.3  ]\n",
      " [0.825 0.35 ]\n",
      " [0.6   0.35 ]\n",
      " [0.75  0.5  ]\n",
      " [0.75  0.5  ]\n",
      " [0.575 0.35 ]\n",
      " [0.5   0.5  ]\n",
      " [0.775 0.55 ]\n",
      " [0.55  0.55 ]\n",
      " [0.575 0.35 ]\n",
      " [0.725 0.5  ]]\n"
     ]
    },
    {
     "data": {
      "text/plain": [
       "True"
      ]
     },
     "execution_count": 12,
     "metadata": {},
     "output_type": "execute_result"
    }
   ],
   "source": [
    "## confirming where the solutions are in matrix-U and constrained matrix-Up\n",
    "\n",
    "table = np.array(table)\n",
    "indices = table[:,2]\n",
    "base_10 = np.array([int(indices[i], len(cities)) for i in range(len(indices))])\n",
    "checks = np.angle(U[base_10])/2/np.pi + 1\n",
    "checks_c = np.angle(Uc[base_10])/2/np.pi\n",
    "checks[7] -= 1\n",
    "checks_c[9] += 1\n",
    "checks_c[8] += 1\n",
    "\n",
    "check_sols = np.zeros((12,2))\n",
    "for i, (check, check_c) in enumerate(zip(checks, checks_c)):\n",
    "    check_sols[i][0] = np.round(check,4)\n",
    "    check_sols[i][1] = np.round(check_c,4)\n",
    "\n",
    "print(check_sols)\n",
    "np.all(sols == check_sols)"
   ]
  },
  {
   "cell_type": "code",
   "execution_count": 13,
   "id": "3c069811-4556-4381-ad94-f0fd69b70085",
   "metadata": {},
   "outputs": [],
   "source": [
    "# creating gates\n",
    "U = np.diag(U)\n",
    "Uc = np.diag(Uc)"
   ]
  },
  {
   "cell_type": "code",
   "execution_count": 14,
   "id": "5275e7a8-9dcd-4abf-8a88-7c635811afb7",
   "metadata": {},
   "outputs": [],
   "source": [
    "Ugate = qi.Operator(U).to_instruction()\n",
    "Ugate.label = \"CU\"\n",
    "CUgate = Ugate.control()"
   ]
  },
  {
   "cell_type": "code",
   "execution_count": 15,
   "id": "a6bd1509-7d64-424f-a717-f22e0982be7f",
   "metadata": {},
   "outputs": [],
   "source": [
    "Ucgate = qi.Operator(Uc).to_instruction()\n",
    "Ucgate.label = \"CU'\"\n",
    "CUcgate = Ucgate.control()"
   ]
  },
  {
   "cell_type": "code",
   "execution_count": 16,
   "id": "56153a93-2ea4-4c7f-adb5-af69525b48fa",
   "metadata": {},
   "outputs": [],
   "source": [
    "# Single Cycle Representation\n",
    "def bitstring_converter(string):\n",
    "    values = []\n",
    "    value = 0\n",
    "    j = 0\n",
    "    for i, v in enumerate(string):\n",
    "        if v == '1':\n",
    "            value += 1/(2**(i+1-j))\n",
    "        elif v == \" \":\n",
    "            values.append(value)\n",
    "            value = 0\n",
    "            j = i+1\n",
    "        if i == len(string)-1:\n",
    "            values.append(value)\n",
    "    return values[::-1]\n",
    "\n",
    "\n",
    "\n",
    "def SingleHamiltonianCycle(eig, n):\n",
    "    # we need a register for the eigenstate:\n",
    "    eigst   = QuantumRegister(m, name = 'eigenstate')\n",
    "    \n",
    "    # we need two registers for the constrained problem:\n",
    "    phase   = QuantumRegister(n, name = 'phase')\n",
    "    phase_c = QuantumRegister(n, name = 'phase c')\n",
    "    cr      = ClassicalRegister(n, 'output')\n",
    "    cr_c    = ClassicalRegister(n, 'output c')\n",
    "    \n",
    "    # constructing the circuit (Initialization):\n",
    "    qc = QuantumCircuit(phase, phase_c,eigst, cr,cr_c)\n",
    "    \n",
    "    # Apply H-Gates to phase qubits:\n",
    "    for qubit in range(2*n):\n",
    "        qc.h(qubit)\n",
    "            \n",
    "    for ind, val in enumerate(eig):\n",
    "        if(int(val)):\n",
    "            qc.x(ind + 2*n)\n",
    "    \n",
    "    ## Phase Estimation\n",
    "    eig_qubits = np.arange(0,m) + 2*n\n",
    "    \n",
    "    repetitions = 1\n",
    "    for counting_qubit in range(2*n):\n",
    "        if counting_qubit == n:\n",
    "            repetitions = 1\n",
    "            qc.append(QFT(num_qubits = n, inverse = True, do_swaps=True), phase)\n",
    "            qc.barrier()\n",
    "        applied_qubits = np.append([counting_qubit], [eig_qubits])\n",
    "        for i in range(repetitions):\n",
    "            if counting_qubit < n:\n",
    "                qc.append(CUgate, list(applied_qubits)); # This is CU\n",
    "            else:\n",
    "                qc.append(CUcgate, list(applied_qubits));\n",
    "        repetitions *= 2\n",
    "        \n",
    "    #qc.append(QFT(num_qubits = n, inverse = True, do_swaps=True), phase)\n",
    "    qc.append(QFT(num_qubits = n, inverse = True, do_swaps=True), phase_c)\n",
    "    qc.barrier()\n",
    "    \n",
    "    qc.measure(phase,cr)\n",
    "    qc.measure(phase_c,cr_c)\n",
    "\n",
    "    return qc"
   ]
  },
  {
   "cell_type": "code",
   "execution_count": 17,
   "id": "6478a288-979d-4ab3-b6b4-bc3672e0e12c",
   "metadata": {},
   "outputs": [],
   "source": [
    "n = 3 ## number of estimation qubits. \n",
    "\n",
    "eigstatelist = table[:,4]\n",
    "for i,eig in enumerate(eigstatelist):\n",
    "    while len(eig) < 12:\n",
    "        eigstatelist[i] = '0' + eig\n",
    "        eig = eigstatelist[i]"
   ]
  },
  {
   "cell_type": "code",
   "execution_count": 18,
   "id": "af57869c-7e04-4ac2-9605-70d130c9cf61",
   "metadata": {},
   "outputs": [],
   "source": [
    "simulator = Aer.get_backend('qasm_simulator')\n",
    "counts = []\n",
    "for eig in eigstatelist:\n",
    "    eig = eig[::-1] # needs to be reversed (Qiskit convention)\n",
    "    qc = SingleHamiltonianCycle(eig, n)\n",
    "    qc = transpile(qc, simulator)\n",
    "    result = simulator.run(qc).result()\n",
    "    counts.append(result.get_counts(qc))"
   ]
  },
  {
   "cell_type": "code",
   "execution_count": 36,
   "id": "a55c4dfb-1022-49c8-a1d6-53d28ca46798",
   "metadata": {},
   "outputs": [
    {
     "data": {
      "text/plain": [
       "array(['001111001010', '001111010010', '010001010110', '001111111110',\n",
       "       '010010110010', '010001110010', '011010000110', '011011110010',\n",
       "       '011100100110', '011010111110', '100010110110', '100101101010'],\n",
       "      dtype='<U21')"
      ]
     },
     "execution_count": 36,
     "metadata": {},
     "output_type": "execute_result"
    }
   ],
   "source": [
    "eigstatelist"
   ]
  },
  {
   "cell_type": "code",
   "execution_count": 22,
   "id": "10f011ff-3529-456a-8afe-6bc1ee342134",
   "metadata": {},
   "outputs": [],
   "source": [
    "#df = pd.DataFrame"
   ]
  },
  {
   "cell_type": "code",
   "execution_count": 24,
   "id": "12254e47-e16c-4975-b6ac-f223e9da0b1e",
   "metadata": {},
   "outputs": [],
   "source": [
    "for i, count in enumerate(counts):\n",
    "    if i == 0:\n",
    "        df = pd.DataFrame(list(count.items()), columns=[str(i+1)+'-states', str(i+1)+'-counts'])\n",
    "    else:\n",
    "        dfc = pd.DataFrame(list(count.items()), columns=[str(i+1)+'-states', str(i+1)+'-counts'])\n",
    "        df = pd.concat([df, dfc], axis=1)"
   ]
  },
  {
   "cell_type": "code",
   "execution_count": 28,
   "id": "f42a092d-6659-48bb-8331-3805b68e349b",
   "metadata": {},
   "outputs": [
    {
     "data": {
      "text/html": [
       "<div>\n",
       "<style scoped>\n",
       "    .dataframe tbody tr th:only-of-type {\n",
       "        vertical-align: middle;\n",
       "    }\n",
       "\n",
       "    .dataframe tbody tr th {\n",
       "        vertical-align: top;\n",
       "    }\n",
       "\n",
       "    .dataframe thead th {\n",
       "        text-align: right;\n",
       "    }\n",
       "</style>\n",
       "<table border=\"1\" class=\"dataframe\">\n",
       "  <thead>\n",
       "    <tr style=\"text-align: right;\">\n",
       "      <th></th>\n",
       "      <th>1-states</th>\n",
       "      <th>1-counts</th>\n",
       "      <th>2-states</th>\n",
       "      <th>2-counts</th>\n",
       "      <th>3-states</th>\n",
       "      <th>3-counts</th>\n",
       "      <th>4-states</th>\n",
       "      <th>4-counts</th>\n",
       "      <th>5-states</th>\n",
       "      <th>5-counts</th>\n",
       "      <th>...</th>\n",
       "      <th>8-states</th>\n",
       "      <th>8-counts</th>\n",
       "      <th>9-states</th>\n",
       "      <th>9-counts</th>\n",
       "      <th>10-states</th>\n",
       "      <th>10-counts</th>\n",
       "      <th>11-states</th>\n",
       "      <th>11-counts</th>\n",
       "      <th>12-states</th>\n",
       "      <th>12-counts</th>\n",
       "    </tr>\n",
       "  </thead>\n",
       "  <tbody>\n",
       "    <tr>\n",
       "      <th>0</th>\n",
       "      <td>101 000</td>\n",
       "      <td>1.0</td>\n",
       "      <td>001 000</td>\n",
       "      <td>1</td>\n",
       "      <td>001 011</td>\n",
       "      <td>1.0</td>\n",
       "      <td>010 101</td>\n",
       "      <td>51.0</td>\n",
       "      <td>100 110</td>\n",
       "      <td>1024.0</td>\n",
       "      <td>...</td>\n",
       "      <td>100 100</td>\n",
       "      <td>1024.0</td>\n",
       "      <td>101 010</td>\n",
       "      <td>1.0</td>\n",
       "      <td>110 000</td>\n",
       "      <td>1.0</td>\n",
       "      <td>111 110</td>\n",
       "      <td>1.0</td>\n",
       "      <td>100 100</td>\n",
       "      <td>14.0</td>\n",
       "    </tr>\n",
       "    <tr>\n",
       "      <th>1</th>\n",
       "      <td>100 111</td>\n",
       "      <td>1.0</td>\n",
       "      <td>011 110</td>\n",
       "      <td>8</td>\n",
       "      <td>010 010</td>\n",
       "      <td>2.0</td>\n",
       "      <td>000 101</td>\n",
       "      <td>7.0</td>\n",
       "      <td>NaN</td>\n",
       "      <td>NaN</td>\n",
       "      <td>...</td>\n",
       "      <td>NaN</td>\n",
       "      <td>NaN</td>\n",
       "      <td>110 010</td>\n",
       "      <td>1.0</td>\n",
       "      <td>110 110</td>\n",
       "      <td>1.0</td>\n",
       "      <td>101 010</td>\n",
       "      <td>1.0</td>\n",
       "      <td>100 001</td>\n",
       "      <td>6.0</td>\n",
       "    </tr>\n",
       "    <tr>\n",
       "      <th>2</th>\n",
       "      <td>001 011</td>\n",
       "      <td>1.0</td>\n",
       "      <td>011 000</td>\n",
       "      <td>3</td>\n",
       "      <td>100 101</td>\n",
       "      <td>3.0</td>\n",
       "      <td>010 100</td>\n",
       "      <td>1.0</td>\n",
       "      <td>NaN</td>\n",
       "      <td>NaN</td>\n",
       "      <td>...</td>\n",
       "      <td>NaN</td>\n",
       "      <td>NaN</td>\n",
       "      <td>101 011</td>\n",
       "      <td>1.0</td>\n",
       "      <td>010 011</td>\n",
       "      <td>2.0</td>\n",
       "      <td>101 000</td>\n",
       "      <td>1.0</td>\n",
       "      <td>100 010</td>\n",
       "      <td>6.0</td>\n",
       "    </tr>\n",
       "    <tr>\n",
       "      <th>3</th>\n",
       "      <td>100 010</td>\n",
       "      <td>1.0</td>\n",
       "      <td>101 110</td>\n",
       "      <td>1</td>\n",
       "      <td>101 101</td>\n",
       "      <td>1.0</td>\n",
       "      <td>100 110</td>\n",
       "      <td>2.0</td>\n",
       "      <td>NaN</td>\n",
       "      <td>NaN</td>\n",
       "      <td>...</td>\n",
       "      <td>NaN</td>\n",
       "      <td>NaN</td>\n",
       "      <td>111 111</td>\n",
       "      <td>1.0</td>\n",
       "      <td>000 100</td>\n",
       "      <td>4.0</td>\n",
       "      <td>010 010</td>\n",
       "      <td>2.0</td>\n",
       "      <td>100 111</td>\n",
       "      <td>24.0</td>\n",
       "    </tr>\n",
       "    <tr>\n",
       "      <th>4</th>\n",
       "      <td>011 100</td>\n",
       "      <td>1.0</td>\n",
       "      <td>110 100</td>\n",
       "      <td>9</td>\n",
       "      <td>011 011</td>\n",
       "      <td>11.0</td>\n",
       "      <td>010 010</td>\n",
       "      <td>2.0</td>\n",
       "      <td>NaN</td>\n",
       "      <td>NaN</td>\n",
       "      <td>...</td>\n",
       "      <td>NaN</td>\n",
       "      <td>NaN</td>\n",
       "      <td>110 001</td>\n",
       "      <td>1.0</td>\n",
       "      <td>000 010</td>\n",
       "      <td>1.0</td>\n",
       "      <td>110 100</td>\n",
       "      <td>2.0</td>\n",
       "      <td>100 110</td>\n",
       "      <td>906.0</td>\n",
       "    </tr>\n",
       "  </tbody>\n",
       "</table>\n",
       "<p>5 rows × 24 columns</p>\n",
       "</div>"
      ],
      "text/plain": [
       "  1-states  1-counts 2-states  2-counts 3-states  3-counts 4-states  4-counts  \\\n",
       "0  101 000       1.0  001 000         1  001 011       1.0  010 101      51.0   \n",
       "1  100 111       1.0  011 110         8  010 010       2.0  000 101       7.0   \n",
       "2  001 011       1.0  011 000         3  100 101       3.0  010 100       1.0   \n",
       "3  100 010       1.0  101 110         1  101 101       1.0  100 110       2.0   \n",
       "4  011 100       1.0  110 100         9  011 011      11.0  010 010       2.0   \n",
       "\n",
       "  5-states  5-counts  ... 8-states  8-counts 9-states  9-counts 10-states  \\\n",
       "0  100 110    1024.0  ...  100 100    1024.0  101 010       1.0   110 000   \n",
       "1      NaN       NaN  ...      NaN       NaN  110 010       1.0   110 110   \n",
       "2      NaN       NaN  ...      NaN       NaN  101 011       1.0   010 011   \n",
       "3      NaN       NaN  ...      NaN       NaN  111 111       1.0   000 100   \n",
       "4      NaN       NaN  ...      NaN       NaN  110 001       1.0   000 010   \n",
       "\n",
       "   10-counts 11-states  11-counts 12-states  12-counts  \n",
       "0        1.0   111 110        1.0   100 100       14.0  \n",
       "1        1.0   101 010        1.0   100 001        6.0  \n",
       "2        2.0   101 000        1.0   100 010        6.0  \n",
       "3        4.0   010 010        2.0   100 111       24.0  \n",
       "4        1.0   110 100        2.0   100 110      906.0  \n",
       "\n",
       "[5 rows x 24 columns]"
      ]
     },
     "execution_count": 28,
     "metadata": {},
     "output_type": "execute_result"
    }
   ],
   "source": [
    "df.head()"
   ]
  },
  {
   "cell_type": "code",
   "execution_count": 29,
   "id": "562d978d-f17f-42b7-ba6c-89aa000198a3",
   "metadata": {},
   "outputs": [],
   "source": [
    "filename = 'data/' + str(n) + 'qubit-5city.csv'\n",
    "df.to_csv(filename, index=False)"
   ]
  },
  {
   "cell_type": "code",
   "execution_count": null,
   "id": "44ba3ac8-7bef-4ae8-8179-803701d11fbf",
   "metadata": {},
   "outputs": [],
   "source": [
    "ns = [4,5,3]\n",
    "\n",
    "for n in ns:\n",
    "    counts = []\n",
    "    for eig in eigstatelist:\n",
    "        eig = eig[::-1] # needs to be reversed (Qiskit convention)\n",
    "        qc = SingleHamiltonianCycle(eig, n)\n",
    "        qc = transpile(qc, simulator)\n",
    "        result = simulator.run(qc).result()\n",
    "        counts.append(result.get_counts(qc))"
   ]
  },
  {
   "cell_type": "code",
   "execution_count": null,
   "id": "1d16847c-e084-4237-b1c7-a003362fe385",
   "metadata": {},
   "outputs": [],
   "source": []
  }
 ],
 "metadata": {
  "kernelspec": {
   "display_name": "Python 3 (ipykernel)",
   "language": "python",
   "name": "python3"
  },
  "language_info": {
   "codemirror_mode": {
    "name": "ipython",
    "version": 3
   },
   "file_extension": ".py",
   "mimetype": "text/x-python",
   "name": "python",
   "nbconvert_exporter": "python",
   "pygments_lexer": "ipython3",
   "version": "3.10.8"
  }
 },
 "nbformat": 4,
 "nbformat_minor": 5
}
