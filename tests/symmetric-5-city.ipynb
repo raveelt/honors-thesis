{
 "cells": [
  {
   "cell_type": "code",
   "execution_count": 1,
   "id": "83331247-7eb0-4564-a9cf-2fb8a9581a13",
   "metadata": {},
   "outputs": [],
   "source": [
    "import numpy as np\n",
    "from matplotlib import pyplot as plt\n",
    "import math\n",
    "\n",
    "# for circuit construction\n",
    "from qiskit import QuantumCircuit, ClassicalRegister, QuantumRegister\n",
    "\n",
    "# QFT circuit needed for phase estimation\n",
    "from qiskit.circuit.library import QFT\n",
    "\n",
    "# for creating custom gates\n",
    "from qiskit import quantum_info as qi\n",
    "\n",
    "# for simulation\n",
    "from qiskit_aer import Aer\n",
    "from qiskit import transpile\n",
    "from qiskit.visualization import plot_histogram\n",
    "\n",
    "# for storing data later\n",
    "import pandas as pd"
   ]
  },
  {
   "cell_type": "code",
   "execution_count": 2,
   "id": "d569fe60-be77-4bdf-9b55-bcdd6996b05e",
   "metadata": {},
   "outputs": [],
   "source": [
    "%run 'hamiltonian.ipynb' ## to get the hamiltonian cycles function\n",
    "\n",
    "cities = [\"A\", \"B\", \"C\", \"D\", \"E\"]\n",
    "cycles = hamiltonian_cycles(cities, symmetric = True)"
   ]
  },
  {
   "cell_type": "code",
   "execution_count": 3,
   "id": "e7ebc342-4109-41ed-b0e4-48b3802554b6",
   "metadata": {},
   "outputs": [
    {
     "data": {
      "text/plain": [
       "['ABCDEA',\n",
       " 'ABCEDA',\n",
       " 'ABDCEA',\n",
       " 'ABDECA',\n",
       " 'ABECDA',\n",
       " 'ABEDCA',\n",
       " 'ACBDEA',\n",
       " 'ACBEDA',\n",
       " 'ACDBEA',\n",
       " 'ACEBDA',\n",
       " 'ADBCEA',\n",
       " 'ADCBEA']"
      ]
     },
     "execution_count": 3,
     "metadata": {},
     "output_type": "execute_result"
    }
   ],
   "source": [
    "cycles"
   ]
  },
  {
   "cell_type": "code",
   "execution_count": 4,
   "id": "bb7147ba-1e92-440f-bb57-50f9335c7632",
   "metadata": {},
   "outputs": [],
   "source": [
    "def hamiltonian_sum(cycle, edge_weights):\n",
    "    return sum(edge_weights[(list(cycle)[i], list(cycle)[i+1])] for i in range(len(cycle) - 1))"
   ]
  },
  {
   "cell_type": "code",
   "execution_count": 5,
   "id": "53479653-292d-4e9f-abbb-12b1ed742845",
   "metadata": {},
   "outputs": [
    {
     "data": {
      "text/plain": [
       "[31, 22, 33, 24, 30, 30, 23, 20, 31, 22, 23, 29]"
      ]
     },
     "execution_count": 5,
     "metadata": {},
     "output_type": "execute_result"
    }
   ],
   "source": [
    "edge_weights = {\n",
    "    ('A', 'B'): 10,\n",
    "    ('A', 'C'): 5,\n",
    "    ('A', 'D'): 7,\n",
    "    ('A', 'E'): 9,\n",
    "    ('B', 'C'): 1,\n",
    "    ('B', 'D'): 5,\n",
    "    ('B', 'E'): 4,\n",
    "    ('C', 'D'): 8,\n",
    "    ('C', 'E'): 1,\n",
    "    ('D', 'E'): 3,\n",
    "}\n",
    "\n",
    "# ensuring edge-weights are bi-directional\n",
    "for (city1, city2), weight in list(edge_weights.items()):\n",
    "    edge_weights[(city2, city1)] = weight\n",
    "\n",
    "cycle_weights = [hamiltonian_sum(cycle, edge_weights) for cycle in cycles]\n",
    "cycle_weights"
   ]
  },
  {
   "cell_type": "code",
   "execution_count": 6,
   "id": "50b73bb1-d24e-468b-91ac-d2f99b65c7f8",
   "metadata": {},
   "outputs": [
    {
     "data": {
      "text/plain": [
       "[12, 12, 14, 14, 20, 20, 14, 20, 22, 22, 14, 20]"
      ]
     },
     "execution_count": 6,
     "metadata": {},
     "output_type": "execute_result"
    }
   ],
   "source": [
    "## weights not satisfying constraints set to zero\n",
    "\n",
    "edge_weights_c = {\n",
    "    ('A', 'B'): 0,\n",
    "    ('A', 'C'): 5,\n",
    "    ('A', 'D'): 7,\n",
    "    ('A', 'E'): 0,\n",
    "    ('B', 'C'): 1,\n",
    "    ('B', 'D'): 5,\n",
    "    ('B', 'E'): 4,\n",
    "    ('C', 'D'): 8,\n",
    "    ('C', 'E'): 1,\n",
    "    ('D', 'E'): 3,\n",
    "}\n",
    "\n",
    "for (city1, city2), weight in list(edge_weights_c.items()):\n",
    "    edge_weights_c[(city2, city1)] = weight\n",
    "    \n",
    "cycle_weights_c = [hamiltonian_sum(cycle, edge_weights_c) for cycle in cycles]\n",
    "cycle_weights_c"
   ]
  },
  {
   "cell_type": "code",
   "execution_count": 7,
   "id": "a634e375-d1af-46ad-8306-ccde4b410ec9",
   "metadata": {},
   "outputs": [
    {
     "name": "stdout",
     "output_type": "stream",
     "text": [
      "[7 9]\n"
     ]
    },
    {
     "data": {
      "text/plain": [
       "array(['ACBEDA', 'ACEBDA'], dtype='<U6')"
      ]
     },
     "execution_count": 7,
     "metadata": {},
     "output_type": "execute_result"
    }
   ],
   "source": [
    "#solutions\n",
    "indices = np.where(np.array(cycle_weights) == np.array(cycle_weights_c))[0]\n",
    "print(indices)\n",
    "np.array(cycles)[indices]"
   ]
  },
  {
   "cell_type": "code",
   "execution_count": 8,
   "id": "56f99c79-b81b-48a0-b655-a6ff0ff655ef",
   "metadata": {},
   "outputs": [
    {
     "data": {
      "text/plain": [
       "array([0.25 , 0.125, 0.175, 0.225, 0.025, 0.125, 0.1  , 0.2  , 0.025,\n",
       "       0.075, 0.25 , 0.125, 0.175, 0.225, 0.025, 0.125, 0.1  , 0.2  ,\n",
       "       0.025, 0.075])"
      ]
     },
     "execution_count": 8,
     "metadata": {},
     "output_type": "execute_result"
    }
   ],
   "source": [
    "weights = list(edge_weights.values())\n",
    "\n",
    "#sorting edge weights\n",
    "sorted_weights = np.sort(weights)[::-1]\n",
    "\n",
    "# normalization factor\n",
    "S = np.sum(sorted_weights[:4])\n",
    "\n",
    "# epsilon\n",
    "eps = 2\n",
    "\n",
    "weights = weights / (S + eps)\n",
    "weights"
   ]
  },
  {
   "cell_type": "code",
   "execution_count": 9,
   "id": "f73d1322-abfa-4640-9a53-db1c75f5d3a2",
   "metadata": {},
   "outputs": [
    {
     "data": {
      "text/plain": [
       "array([[0.775, 0.3  ],\n",
       "       [0.55 , 0.3  ],\n",
       "       [0.825, 0.35 ],\n",
       "       [0.6  , 0.35 ],\n",
       "       [0.75 , 0.5  ],\n",
       "       [0.75 , 0.5  ],\n",
       "       [0.575, 0.35 ],\n",
       "       [0.5  , 0.5  ],\n",
       "       [0.775, 0.55 ],\n",
       "       [0.55 , 0.55 ],\n",
       "       [0.575, 0.35 ],\n",
       "       [0.725, 0.5  ]])"
      ]
     },
     "execution_count": 9,
     "metadata": {},
     "output_type": "execute_result"
    }
   ],
   "source": [
    "for (city1, city2), weight in list(edge_weights.items()):\n",
    "    edge_weights[(city1, city2)] = weight/ (S + eps)\n",
    "\n",
    "for (city1, city2), weight in list(edge_weights_c.items()):\n",
    "    edge_weights_c[(city1, city2)] = weight/ (S + eps)\n",
    "\n",
    "cycle_weights = [hamiltonian_sum(cycle, edge_weights) for cycle in cycles]\n",
    "cycle_weights_c = [hamiltonian_sum(cycle, edge_weights_c) for cycle in cycles]\n",
    "\n",
    "sols = np.zeros((12,2))\n",
    "for i, (cycle, cycle_c) in enumerate(zip(cycle_weights, cycle_weights_c)):\n",
    "    sols[i][0] = np.round(cycle,4)\n",
    "    sols[i][1] = np.round(cycle_c,4)\n",
    "\n",
    "sols"
   ]
  },
  {
   "cell_type": "code",
   "execution_count": 10,
   "id": "8fbc2edb-7a92-431c-a623-1547b538281f",
   "metadata": {},
   "outputs": [],
   "source": [
    "A,  B,   C,  D,  E = [], [], [], [], []\n",
    "Ac, Bc, Cc, Dc, Ec = [], [], [], [], []\n",
    "\n",
    "# Lists to hold all the lists\n",
    "U  = [A, B, C, D, E] # before constraint\n",
    "Uc = [Ac, Bc, Cc, Dc, Ec] # after constraint\n",
    "\n",
    "for i, (city,city_c) in enumerate(zip(U,Uc)):\n",
    "    for j in range(5):\n",
    "        if i != j:\n",
    "            city.append(np.exp(1j * edge_weights[(cities[i], cities[j])] * 2 * np.pi))\n",
    "            city_c.append(np.exp(1j * edge_weights_c[(cities[i], cities[j])] * 2 * np.pi))\n",
    "        else:\n",
    "            city.append(1)\n",
    "            city_c.append(1)\n",
    "            \n",
    "U  = np.kron(np.kron(np.kron(np.kron(A,B),C),D),E)\n",
    "Uc = np.kron(np.kron(np.kron(np.kron(Ac,Bc),Cc),Dc),Ec)\n",
    "\n",
    "\n",
    "m = 12 # number of eigenstate qubits needed\n",
    "filler = 2**12 - U.shape[0] #filler ones needed to have exactly 12 qubits\n",
    "\n",
    "U = np.append(U, np.ones(filler))\n",
    "Uc = np.append(Uc, np.ones(filler))\n",
    "\n"
   ]
  },
  {
   "cell_type": "code",
   "execution_count": 11,
   "id": "e8a1e961-a69a-440c-8e9f-93e6e9f37079",
   "metadata": {},
   "outputs": [
    {
     "name": "stdout",
     "output_type": "stream",
     "text": [
      "cycle, index, sorted_index, base 10, base 2 \n",
      " [['ABCDEA' '12340' '12340' '970' '1111001010']\n",
      " ['ABCEDA' '12430' '12403' '978' '1111010010']\n",
      " ['ABDCEA' '13240' '13420' '1110' '10001010110']\n",
      " ['ABDECA' '13420' '13042' '1022' '1111111110']\n",
      " ['ABECDA' '14230' '14302' '1202' '10010110010']\n",
      " ['ABEDCA' '14320' '14023' '1138' '10001110010']\n",
      " ['ACBDEA' '21340' '23140' '1670' '11010000110']\n",
      " ['ACBEDA' '21430' '24103' '1778' '11011110010']\n",
      " ['ACDBEA' '23140' '24310' '1830' '11100100110']\n",
      " ['ACEBDA' '24130' '23401' '1726' '11010111110']\n",
      " ['ADBCEA' '31240' '32410' '2230' '100010110110']\n",
      " ['ADCBEA' '32140' '34120' '2410' '100101101010']]\n"
     ]
    }
   ],
   "source": [
    "table = sort_indices(*map_indices(cities, symmetric = True))\n",
    "\n",
    "# Base 10 and 2 conversions\n",
    "table = np.array(table)\n",
    "indices = table[:,2]\n",
    "base_10 = np.array([int(indices[i], len(cities)) for i in range(len(indices))])\n",
    "base_2  = np.array([\"{0:b}\".format(base_10[i]) for i in range(len(base_10))]) \n",
    "table = np.append(table, base_10.reshape(-1,1), axis=1)\n",
    "table = np.append(table, base_2.reshape(-1,1), axis=1)\n",
    "print(\"cycle, index, sorted_index, base 10, base 2 \\n\",table)"
   ]
  },
  {
   "cell_type": "code",
   "execution_count": 12,
   "id": "cbbcaeb5-0f08-47dd-ad4e-a4d203ed862d",
   "metadata": {},
   "outputs": [
    {
     "name": "stdout",
     "output_type": "stream",
     "text": [
      "[[0.775 0.3  ]\n",
      " [0.55  0.3  ]\n",
      " [0.825 0.35 ]\n",
      " [0.6   0.35 ]\n",
      " [0.75  0.5  ]\n",
      " [0.75  0.5  ]\n",
      " [0.575 0.35 ]\n",
      " [0.5   0.5  ]\n",
      " [0.775 0.55 ]\n",
      " [0.55  0.55 ]\n",
      " [0.575 0.35 ]\n",
      " [0.725 0.5  ]]\n"
     ]
    },
    {
     "data": {
      "text/plain": [
       "True"
      ]
     },
     "execution_count": 12,
     "metadata": {},
     "output_type": "execute_result"
    }
   ],
   "source": [
    "## confirming where the solutions are in matrix-U and constrained matrix-Up\n",
    "\n",
    "table = np.array(table)\n",
    "indices = table[:,2]\n",
    "base_10 = np.array([int(indices[i], len(cities)) for i in range(len(indices))])\n",
    "checks = np.angle(U[base_10])/2/np.pi + 1\n",
    "checks_c = np.angle(Uc[base_10])/2/np.pi\n",
    "checks[7] -= 1\n",
    "checks_c[9] += 1\n",
    "checks_c[8] += 1\n",
    "\n",
    "check_sols = np.zeros((12,2))\n",
    "for i, (check, check_c) in enumerate(zip(checks, checks_c)):\n",
    "    check_sols[i][0] = np.round(check,4)\n",
    "    check_sols[i][1] = np.round(check_c,4)\n",
    "\n",
    "print(check_sols)\n",
    "np.all(sols == check_sols)"
   ]
  },
  {
   "cell_type": "code",
   "execution_count": 13,
   "id": "3c069811-4556-4381-ad94-f0fd69b70085",
   "metadata": {},
   "outputs": [],
   "source": [
    "# creating gates\n",
    "U = np.diag(U)\n",
    "Uc = np.diag(Uc)"
   ]
  },
  {
   "cell_type": "code",
   "execution_count": 21,
   "id": "1b7b3ccb-d000-4f67-94fd-ee9002520b0b",
   "metadata": {},
   "outputs": [
    {
     "data": {
      "text/plain": [
       "array([1.+0.j, 1.+0.j, 1.+0.j, ..., 1.+0.j, 1.+0.j, 1.+0.j])"
      ]
     },
     "execution_count": 21,
     "metadata": {},
     "output_type": "execute_result"
    }
   ],
   "source": [
    "np.diag(np.matmul(np.conjugate(U), U))"
   ]
  },
  {
   "cell_type": "code",
   "execution_count": 26,
   "id": "5275e7a8-9dcd-4abf-8a88-7c635811afb7",
   "metadata": {},
   "outputs": [],
   "source": [
    "Ugate = qi.Operator(np.diag(U)).to_instruction()\n",
    "Ugate.label = \"CU\"\n",
    "CUgate = Ugate.control()"
   ]
  },
  {
   "cell_type": "code",
   "execution_count": null,
   "id": "a6bd1509-7d64-424f-a717-f22e0982be7f",
   "metadata": {},
   "outputs": [],
   "source": [
    "Ucgate = qi.Operator(Uc).to_instruction()\n",
    "Ucgate.label = \"CU'\"\n",
    "CUcgate = Ucgate.control()"
   ]
  }
 ],
 "metadata": {
  "kernelspec": {
   "display_name": "Python 3 (ipykernel)",
   "language": "python",
   "name": "python3"
  },
  "language_info": {
   "codemirror_mode": {
    "name": "ipython",
    "version": 3
   },
   "file_extension": ".py",
   "mimetype": "text/x-python",
   "name": "python",
   "nbconvert_exporter": "python",
   "pygments_lexer": "ipython3",
   "version": "3.10.8"
  }
 },
 "nbformat": 4,
 "nbformat_minor": 5
}
