{
 "cells": [
  {
   "cell_type": "code",
   "execution_count": 1,
   "id": "b812a7ea-92c6-4a63-9505-168315363cee",
   "metadata": {},
   "outputs": [],
   "source": [
    "from itertools import permutations\n",
    "import numpy as np\n",
    "\n",
    "def hamiltonian_cycles(cities, symmetric = False):\n",
    "    'returns a list of all possible hamiltonian cycles for a given list of cities'\n",
    "    start = cities[0]\n",
    "    cycles = []\n",
    "    for permutation in permutations(cities[1:]):\n",
    "        cycle = start + ''.join(permutation) + start\n",
    "        if symmetric:\n",
    "            if cycle[::-1] not in cycles:\n",
    "                cycles.append(cycle)\n",
    "        else:\n",
    "            cycles.append(cycle)\n",
    "    return cycles\n",
    "\n",
    "def map_indices(cities, symmetric = False):\n",
    "    'returns all the hamiltonian cycles and the indices'\n",
    "    cycles = hamiltonian_cycles(cities, symmetric = symmetric)\n",
    "    index_map = {cities[i]: str(range(len(cities))[i]) for i in range(len(cities))}\n",
    "    indices_cycles = []\n",
    "    for cycle in cycles:\n",
    "        indices_city = ''\n",
    "        for city in cycle[1:]:\n",
    "            indices_city += index_map[city]    \n",
    "        indices_cycles.append(indices_city)\n",
    "    return cycles, indices_cycles  \n",
    "\n",
    "def sort_indices(cycles, indices_cycles):\n",
    "    'sorts the indices'\n",
    "    results = []\n",
    "    for cycle, index in zip(cycles, indices_cycles):\n",
    "        pairs = list(zip(cycle, index)) \n",
    "        sorted_pairs = sorted(pairs, key = lambda pair: pair[0]) # sorts by city name\n",
    "        sorted_index = ''.join([pair[1] for pair in sorted_pairs])\n",
    "        results.append([cycle, index, sorted_index])\n",
    "    return results"
   ]
  },
  {
   "cell_type": "code",
   "execution_count": 2,
   "id": "ced2a704-1070-43e7-856f-13849cd30781",
   "metadata": {},
   "outputs": [
    {
     "data": {
      "text/plain": [
       "(['ABCDEA',\n",
       "  'ABCEDA',\n",
       "  'ABDCEA',\n",
       "  'ABDECA',\n",
       "  'ABECDA',\n",
       "  'ABEDCA',\n",
       "  'ACBDEA',\n",
       "  'ACBEDA',\n",
       "  'ACDBEA',\n",
       "  'ACDEBA',\n",
       "  'ACEBDA',\n",
       "  'ACEDBA',\n",
       "  'ADBCEA',\n",
       "  'ADBECA',\n",
       "  'ADCBEA',\n",
       "  'ADCEBA',\n",
       "  'ADEBCA',\n",
       "  'ADECBA',\n",
       "  'AEBCDA',\n",
       "  'AEBDCA',\n",
       "  'AECBDA',\n",
       "  'AECDBA',\n",
       "  'AEDBCA',\n",
       "  'AEDCBA'],\n",
       " ['12340',\n",
       "  '12430',\n",
       "  '13240',\n",
       "  '13420',\n",
       "  '14230',\n",
       "  '14320',\n",
       "  '21340',\n",
       "  '21430',\n",
       "  '23140',\n",
       "  '23410',\n",
       "  '24130',\n",
       "  '24310',\n",
       "  '31240',\n",
       "  '31420',\n",
       "  '32140',\n",
       "  '32410',\n",
       "  '34120',\n",
       "  '34210',\n",
       "  '41230',\n",
       "  '41320',\n",
       "  '42130',\n",
       "  '42310',\n",
       "  '43120',\n",
       "  '43210'])"
      ]
     },
     "execution_count": 2,
     "metadata": {},
     "output_type": "execute_result"
    }
   ],
   "source": [
    "cities = ['A', 'B', 'C', 'D']\n",
    "cycles, indices_cycles = map_indices(cities, symmetric = False)\n",
    "cycles, indices_cycles"
   ]
  },
  {
   "cell_type": "code",
   "execution_count": 3,
   "id": "1b2df512-2b5c-41cd-a79a-f8cf39750e84",
   "metadata": {},
   "outputs": [
    {
     "name": "stdout",
     "output_type": "stream",
     "text": [
      "cycle, index, sorted_index\n"
     ]
    },
    {
     "data": {
      "text/plain": [
       "[['ABCDEA', '12340', '12340'],\n",
       " ['ABCEDA', '12430', '12403'],\n",
       " ['ABDCEA', '13240', '13420'],\n",
       " ['ABDECA', '13420', '13042'],\n",
       " ['ABECDA', '14230', '14302'],\n",
       " ['ABEDCA', '14320', '14023'],\n",
       " ['ACBDEA', '21340', '23140'],\n",
       " ['ACBEDA', '21430', '24103'],\n",
       " ['ACDBEA', '23140', '24310'],\n",
       " ['ACDEBA', '23410', '20341'],\n",
       " ['ACEBDA', '24130', '23401'],\n",
       " ['ACEDBA', '24310', '20413'],\n",
       " ['ADBCEA', '31240', '32410'],\n",
       " ['ADBECA', '31420', '34012'],\n",
       " ['ADCBEA', '32140', '34120'],\n",
       " ['ADCEBA', '32410', '30421'],\n",
       " ['ADEBCA', '34120', '32041'],\n",
       " ['ADECBA', '34210', '30142'],\n",
       " ['AEBCDA', '41230', '42301'],\n",
       " ['AEBDCA', '41320', '43021'],\n",
       " ['AECBDA', '42130', '43102'],\n",
       " ['AECDBA', '42310', '40312'],\n",
       " ['AEDBCA', '43120', '42013'],\n",
       " ['AEDCBA', '43210', '40123']]"
      ]
     },
     "execution_count": 3,
     "metadata": {},
     "output_type": "execute_result"
    }
   ],
   "source": [
    "table = sort_indices(cycles, indices_cycles)\n",
    "print(\"cycle, index, sorted_index\")\n",
    "table"
   ]
  },
  {
   "cell_type": "code",
   "execution_count": 4,
   "id": "33ccfb21-fa48-44d9-99f8-ee44f23b6807",
   "metadata": {},
   "outputs": [
    {
     "name": "stdout",
     "output_type": "stream",
     "text": [
      "cycle, index, sorted_index, base 10, base 2 \n",
      " [['ABCDEA' '12340' '12340' '970' '1111001010']\n",
      " ['ABCEDA' '12430' '12403' '978' '1111010010']\n",
      " ['ABDCEA' '13240' '13420' '1110' '10001010110']\n",
      " ['ABDECA' '13420' '13042' '1022' '1111111110']\n",
      " ['ABECDA' '14230' '14302' '1202' '10010110010']\n",
      " ['ABEDCA' '14320' '14023' '1138' '10001110010']\n",
      " ['ACBDEA' '21340' '23140' '1670' '11010000110']\n",
      " ['ACBEDA' '21430' '24103' '1778' '11011110010']\n",
      " ['ACDBEA' '23140' '24310' '1830' '11100100110']\n",
      " ['ACDEBA' '23410' '20341' '1346' '10101000010']\n",
      " ['ACEBDA' '24130' '23401' '1726' '11010111110']\n",
      " ['ACEDBA' '24310' '20413' '1358' '10101001110']\n",
      " ['ADBCEA' '31240' '32410' '2230' '100010110110']\n",
      " ['ADBECA' '31420' '34012' '2382' '100101001110']\n",
      " ['ADCBEA' '32140' '34120' '2410' '100101101010']\n",
      " ['ADCEBA' '32410' '30421' '1986' '11111000010']\n",
      " ['ADEBCA' '34120' '32041' '2146' '100001100010']\n",
      " ['ADECBA' '34210' '30142' '1922' '11110000010']\n",
      " ['AEBCDA' '41230' '42301' '2826' '101100001010']\n",
      " ['AEBDCA' '41320' '43021' '2886' '101101000110']\n",
      " ['AECBDA' '42130' '43102' '2902' '101101010110']\n",
      " ['AECDBA' '42310' '40312' '2582' '101000010110']\n",
      " ['AEDBCA' '43120' '42013' '2758' '101011000110']\n",
      " ['AEDCBA' '43210' '40123' '2538' '100111101010']]\n"
     ]
    }
   ],
   "source": [
    "# Base 10 and 2 conversions\n",
    "table = np.array(table)\n",
    "indices = table[:,2]\n",
    "base_10 = np.array([int(indices[i], len(cities)) for i in range(len(indices))])\n",
    "base_2  = np.array([\"{0:b}\".format(base_10[i]) for i in range(len(base_10))]) \n",
    "table = np.append(table, base_10.reshape(-1,1), axis=1)\n",
    "table = np.append(table, base_2.reshape(-1,1), axis=1)\n",
    "print(\"cycle, index, sorted_index, base 10, base 2 \\n\",table)"
   ]
  },
  {
   "cell_type": "code",
   "execution_count": null,
   "id": "212c4790-4e2c-44d9-9fe5-a1e16d12dc01",
   "metadata": {},
   "outputs": [],
   "source": []
  }
 ],
 "metadata": {
  "kernelspec": {
   "display_name": "Python 3 (ipykernel)",
   "language": "python",
   "name": "python3"
  },
  "language_info": {
   "codemirror_mode": {
    "name": "ipython",
    "version": 3
   },
   "file_extension": ".py",
   "mimetype": "text/x-python",
   "name": "python",
   "nbconvert_exporter": "python",
   "pygments_lexer": "ipython3",
   "version": "3.10.8"
  }
 },
 "nbformat": 4,
 "nbformat_minor": 5
}
