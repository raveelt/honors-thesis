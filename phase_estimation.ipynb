{
 "cells": [
  {
   "cell_type": "code",
   "execution_count": 55,
   "id": "1e9c60bf",
   "metadata": {},
   "outputs": [],
   "source": [
    "import numpy as np\n",
    "from matplotlib import pyplot as plt\n",
    "import math\n",
    "\n",
    "# importing Qiskit\n",
    "from qiskit import IBMQ, Aer, transpile, assemble\n",
    "from qiskit import QuantumCircuit, ClassicalRegister, QuantumRegister\n",
    "from qiskit.circuit.library import QFT\n",
    "\n",
    "# for creating custom gates\n",
    "from qiskit import quantum_info as qi\n",
    "\n",
    "# import basic plot tools\n",
    "from qiskit.visualization import plot_histogram\n",
    "\n",
    "\n",
    "# for simulation\n",
    "from qiskit import Aer, transpile\n",
    "from qiskit.tools.visualization import plot_histogram, plot_state_city"
   ]
  },
  {
   "cell_type": "code",
   "execution_count": 237,
   "id": "2dde77b3",
   "metadata": {},
   "outputs": [
    {
     "name": "stdout",
     "output_type": "stream",
     "text": [
      "[0.         0.11428571 0.22857143 0.34285714 0.45714286 0.57142857\n",
      " 0.68571429 0.8       ]\n"
     ]
    }
   ],
   "source": [
    "phases = np.linspace(0,0.8,8)\n",
    "\n",
    "for index, value in enumerate(phases):\n",
    "    variable_name = \"U{}\".format(index)\n",
    "    globals()[variable_name] = np.exp(1j * phases[index] * 2 * np.pi)\n",
    "    \n",
    "U = np.array([globals()[\"U{}\".format(i)] for i in range(len(phases))])\n",
    "\n",
    "# this was easier\n",
    "U = np.exp(phases * 2 * np.pi * 1j)\n",
    "CUdiag = np.append(U, np.ones(2**3))\n",
    "CU = np.diag(CUdiag)\n",
    "CUop = qi.Operator(np.diag(CUdiag))\n",
    "\n",
    "print(phases)"
   ]
  },
  {
   "cell_type": "code",
   "execution_count": 238,
   "id": "aa86e4c5",
   "metadata": {},
   "outputs": [
    {
     "data": {
      "text/plain": [
       "array([[0.+0.j],\n",
       "       [0.+0.j],\n",
       "       [0.+0.j],\n",
       "       [0.+0.j],\n",
       "       [0.+0.j],\n",
       "       [0.+0.j],\n",
       "       [0.+0.j],\n",
       "       [0.+0.j],\n",
       "       [0.+0.j],\n",
       "       [1.+0.j],\n",
       "       [0.+0.j],\n",
       "       [0.+0.j],\n",
       "       [0.+0.j],\n",
       "       [0.+0.j],\n",
       "       [0.+0.j],\n",
       "       [0.+0.j]])"
      ]
     },
     "execution_count": 238,
     "metadata": {},
     "output_type": "execute_result"
    }
   ],
   "source": [
    "CU.dot(np.array([0,0,0,0,0,0,0,0,0,1,0,0,0,0,0,0]).reshape(-1,1))"
   ]
  },
  {
   "cell_type": "code",
   "execution_count": 239,
   "id": "8e55d316",
   "metadata": {},
   "outputs": [
    {
     "data": {
      "text/plain": [
       "array([ 0.        ,  0.71807832,  1.43615664,  2.15423496,  2.87231328,\n",
       "       -2.6927937 , -1.97471538, -1.25663706,  0.        ,  0.        ,\n",
       "        0.        ,  0.        ,  0.        ,  0.        ,  0.        ,\n",
       "        0.        ])"
      ]
     },
     "execution_count": 239,
     "metadata": {},
     "output_type": "execute_result"
    }
   ],
   "source": [
    "np.angle(CUdiag)"
   ]
  },
  {
   "cell_type": "code",
   "execution_count": 250,
   "id": "ecfc9d48",
   "metadata": {},
   "outputs": [
    {
     "data": {
      "text/html": [
       "<pre style=\"word-wrap: normal;white-space: pre;background: #fff0;line-height: 1.1;font-family: &quot;Courier New&quot;,Courier,monospace\">              ┌───┐\n",
       "     phase_0: ┤ H ├\n",
       "              ├───┤\n",
       "     phase_1: ┤ H ├\n",
       "              ├───┤\n",
       "     phase_2: ┤ H ├\n",
       "              ├───┤\n",
       "     phase_3: ┤ H ├\n",
       "              └───┘\n",
       "eigenstate_0: ─────\n",
       "                   \n",
       "eigenstate_1: ─────\n",
       "                   \n",
       "eigenstate_2: ─────\n",
       "                   \n",
       "    output: 4/═════\n",
       "                   </pre>"
      ],
      "text/plain": [
       "              ┌───┐\n",
       "     phase_0: ┤ H ├\n",
       "              ├───┤\n",
       "     phase_1: ┤ H ├\n",
       "              ├───┤\n",
       "     phase_2: ┤ H ├\n",
       "              ├───┤\n",
       "     phase_3: ┤ H ├\n",
       "              └───┘\n",
       "eigenstate_0: ─────\n",
       "                   \n",
       "eigenstate_1: ─────\n",
       "                   \n",
       "eigenstate_2: ─────\n",
       "                   \n",
       "    output: 4/═════\n",
       "                   "
      ]
     },
     "execution_count": 250,
     "metadata": {},
     "output_type": "execute_result"
    }
   ],
   "source": [
    "n = 4\n",
    "m = 3\n",
    "qr = QuantumRegister(n, name = 'phase')\n",
    "qr2 = QuantumRegister(m, name = 'eigenstate')\n",
    "cr = ClassicalRegister(n, 'output')\n",
    "qc = QuantumCircuit(qr,qr2,cr)\n",
    "\n",
    "\n",
    "# Apply H-Gates to counting qubits:\n",
    "for qubit in range(n):\n",
    "    qc.h(qubit)\n",
    "\n",
    "# Prepare our eigenstate |psi>: state 198\n",
    "\n",
    "\n",
    "eigstatelist = ['000', '001', '010', '011', '100', '101', '110', '111']\n",
    "e = 0\n",
    "eig = eigstatelist[e]\n",
    "\n",
    "for ind, val in enumerate(eig):\n",
    "    if(int(val)):\n",
    "        qc.x(ind + n)\n",
    "\n",
    "\n",
    "qc.draw()"
   ]
  },
  {
   "cell_type": "code",
   "execution_count": 251,
   "id": "06c16123",
   "metadata": {},
   "outputs": [
    {
     "data": {
      "text/html": [
       "<pre style=\"word-wrap: normal;white-space: pre;background: #fff0;line-height: 1.1;font-family: &quot;Courier New&quot;,Courier,monospace\">              ┌───┐┌─────┐                                                 »\n",
       "     phase_0: ┤ H ├┤0    ├─────────────────────────────────────────────────»\n",
       "              ├───┤│     │┌─────┐┌─────┐                                   »\n",
       "     phase_1: ┤ H ├┤     ├┤0    ├┤0    ├───────────────────────────────────»\n",
       "              ├───┤│     ││     ││     │┌─────┐┌─────┐┌─────┐┌─────┐       »\n",
       "     phase_2: ┤ H ├┤     ├┤     ├┤     ├┤0    ├┤0    ├┤0    ├┤0    ├───────»\n",
       "              ├───┤│     ││     ││     ││     ││     ││     ││     │┌─────┐»\n",
       "     phase_3: ┤ H ├┤  CU ├┤     ├┤     ├┤     ├┤     ├┤     ├┤     ├┤0    ├»\n",
       "              └───┘│     ││  CU ││  CU ││     ││     ││     ││     ││     │»\n",
       "eigenstate_0: ─────┤1    ├┤1    ├┤1    ├┤1 CU ├┤1 CU ├┤1 CU ├┤1 CU ├┤1    ├»\n",
       "                   │     ││     ││     ││     ││     ││     ││     ││  CU │»\n",
       "eigenstate_1: ─────┤2    ├┤2    ├┤2    ├┤2    ├┤2    ├┤2    ├┤2    ├┤2    ├»\n",
       "                   │     ││     ││     ││     ││     ││     ││     ││     │»\n",
       "eigenstate_2: ─────┤3    ├┤3    ├┤3    ├┤3    ├┤3    ├┤3    ├┤3    ├┤3    ├»\n",
       "                   └─────┘└─────┘└─────┘└─────┘└─────┘└─────┘└─────┘└─────┘»\n",
       "    output: 4/═════════════════════════════════════════════════════════════»\n",
       "                                                                           »\n",
       "«                                                               ┌───────┐┌─┐   »\n",
       "«     phase_0: ─────────────────────────────────────────────────┤0      ├┤M├───»\n",
       "«                                                               │       │└╥┘┌─┐»\n",
       "«     phase_1: ─────────────────────────────────────────────────┤1      ├─╫─┤M├»\n",
       "«                                                               │  IQFT │ ║ └╥┘»\n",
       "«     phase_2: ─────────────────────────────────────────────────┤2      ├─╫──╫─»\n",
       "«              ┌─────┐┌─────┐┌─────┐┌─────┐┌─────┐┌─────┐┌─────┐│       │ ║  ║ »\n",
       "«     phase_3: ┤0    ├┤0    ├┤0    ├┤0    ├┤0    ├┤0    ├┤0    ├┤3      ├─╫──╫─»\n",
       "«              │     ││     ││     ││     ││     ││     ││     │└───────┘ ║  ║ »\n",
       "«eigenstate_0: ┤1    ├┤1    ├┤1    ├┤1    ├┤1    ├┤1    ├┤1    ├──────────╫──╫─»\n",
       "«              │  CU ││  CU ││  CU ││  CU ││  CU ││  CU ││  CU │          ║  ║ »\n",
       "«eigenstate_1: ┤2    ├┤2    ├┤2    ├┤2    ├┤2    ├┤2    ├┤2    ├──────────╫──╫─»\n",
       "«              │     ││     ││     ││     ││     ││     ││     │          ║  ║ »\n",
       "«eigenstate_2: ┤3    ├┤3    ├┤3    ├┤3    ├┤3    ├┤3    ├┤3    ├──────────╫──╫─»\n",
       "«              └─────┘└─────┘└─────┘└─────┘└─────┘└─────┘└─────┘          ║  ║ »\n",
       "«    output: 4/═══════════════════════════════════════════════════════════╩══╩═»\n",
       "«                                                                         0  1 »\n",
       "«                    \n",
       "«     phase_0: ──────\n",
       "«                    \n",
       "«     phase_1: ──────\n",
       "«              ┌─┐   \n",
       "«     phase_2: ┤M├───\n",
       "«              └╥┘┌─┐\n",
       "«     phase_3: ─╫─┤M├\n",
       "«               ║ └╥┘\n",
       "«eigenstate_0: ─╫──╫─\n",
       "«               ║  ║ \n",
       "«eigenstate_1: ─╫──╫─\n",
       "«               ║  ║ \n",
       "«eigenstate_2: ─╫──╫─\n",
       "«               ║  ║ \n",
       "«    output: 4/═╩══╩═\n",
       "«               2  3 </pre>"
      ],
      "text/plain": [
       "              ┌───┐┌─────┐                                                 »\n",
       "     phase_0: ┤ H ├┤0    ├─────────────────────────────────────────────────»\n",
       "              ├───┤│     │┌─────┐┌─────┐                                   »\n",
       "     phase_1: ┤ H ├┤     ├┤0    ├┤0    ├───────────────────────────────────»\n",
       "              ├───┤│     ││     ││     │┌─────┐┌─────┐┌─────┐┌─────┐       »\n",
       "     phase_2: ┤ H ├┤     ├┤     ├┤     ├┤0    ├┤0    ├┤0    ├┤0    ├───────»\n",
       "              ├───┤│     ││     ││     ││     ││     ││     ││     │┌─────┐»\n",
       "     phase_3: ┤ H ├┤  CU ├┤     ├┤     ├┤     ├┤     ├┤     ├┤     ├┤0    ├»\n",
       "              └───┘│     ││  CU ││  CU ││     ││     ││     ││     ││     │»\n",
       "eigenstate_0: ─────┤1    ├┤1    ├┤1    ├┤1 CU ├┤1 CU ├┤1 CU ├┤1 CU ├┤1    ├»\n",
       "                   │     ││     ││     ││     ││     ││     ││     ││  CU │»\n",
       "eigenstate_1: ─────┤2    ├┤2    ├┤2    ├┤2    ├┤2    ├┤2    ├┤2    ├┤2    ├»\n",
       "                   │     ││     ││     ││     ││     ││     ││     ││     │»\n",
       "eigenstate_2: ─────┤3    ├┤3    ├┤3    ├┤3    ├┤3    ├┤3    ├┤3    ├┤3    ├»\n",
       "                   └─────┘└─────┘└─────┘└─────┘└─────┘└─────┘└─────┘└─────┘»\n",
       "    output: 4/═════════════════════════════════════════════════════════════»\n",
       "                                                                           »\n",
       "«                                                               ┌───────┐┌─┐   »\n",
       "«     phase_0: ─────────────────────────────────────────────────┤0      ├┤M├───»\n",
       "«                                                               │       │└╥┘┌─┐»\n",
       "«     phase_1: ─────────────────────────────────────────────────┤1      ├─╫─┤M├»\n",
       "«                                                               │  IQFT │ ║ └╥┘»\n",
       "«     phase_2: ─────────────────────────────────────────────────┤2      ├─╫──╫─»\n",
       "«              ┌─────┐┌─────┐┌─────┐┌─────┐┌─────┐┌─────┐┌─────┐│       │ ║  ║ »\n",
       "«     phase_3: ┤0    ├┤0    ├┤0    ├┤0    ├┤0    ├┤0    ├┤0    ├┤3      ├─╫──╫─»\n",
       "«              │     ││     ││     ││     ││     ││     ││     │└───────┘ ║  ║ »\n",
       "«eigenstate_0: ┤1    ├┤1    ├┤1    ├┤1    ├┤1    ├┤1    ├┤1    ├──────────╫──╫─»\n",
       "«              │  CU ││  CU ││  CU ││  CU ││  CU ││  CU ││  CU │          ║  ║ »\n",
       "«eigenstate_1: ┤2    ├┤2    ├┤2    ├┤2    ├┤2    ├┤2    ├┤2    ├──────────╫──╫─»\n",
       "«              │     ││     ││     ││     ││     ││     ││     │          ║  ║ »\n",
       "«eigenstate_2: ┤3    ├┤3    ├┤3    ├┤3    ├┤3    ├┤3    ├┤3    ├──────────╫──╫─»\n",
       "«              └─────┘└─────┘└─────┘└─────┘└─────┘└─────┘└─────┘          ║  ║ »\n",
       "«    output: 4/═══════════════════════════════════════════════════════════╩══╩═»\n",
       "«                                                                         0  1 »\n",
       "«                    \n",
       "«     phase_0: ──────\n",
       "«                    \n",
       "«     phase_1: ──────\n",
       "«              ┌─┐   \n",
       "«     phase_2: ┤M├───\n",
       "«              └╥┘┌─┐\n",
       "«     phase_3: ─╫─┤M├\n",
       "«               ║ └╥┘\n",
       "«eigenstate_0: ─╫──╫─\n",
       "«               ║  ║ \n",
       "«eigenstate_1: ─╫──╫─\n",
       "«               ║  ║ \n",
       "«eigenstate_2: ─╫──╫─\n",
       "«               ║  ║ \n",
       "«    output: 4/═╩══╩═\n",
       "«               2  3 "
      ]
     },
     "execution_count": 251,
     "metadata": {},
     "output_type": "execute_result"
    }
   ],
   "source": [
    "eig_qubits = np.arange(0,m) + n\n",
    "\n",
    "repetitions = 1\n",
    "for counting_qubit in range(n):\n",
    "    applied_qubits = np.append([counting_qubit], [eig_qubits])\n",
    "    for i in range(repetitions):\n",
    "        qc.unitary(CUop, list(applied_qubits), label = \"CU\"); # This is CU\n",
    "    repetitions *= 2\n",
    "    \n",
    "qc.append(QFT(num_qubits = n, inverse = True, do_swaps=False), qr)\n",
    "qc.measure(qr,cr)\n",
    "qc.draw()"
   ]
  },
  {
   "cell_type": "code",
   "execution_count": 252,
   "id": "ed3d96f4",
   "metadata": {},
   "outputs": [
    {
     "data": {
      "text/plain": [
       "[AerSimulator('aer_simulator'),\n",
       " AerSimulator('aer_simulator'),\n",
       " AerSimulator('aer_simulator'),\n",
       " AerSimulator('aer_simulator'),\n",
       " AerSimulator('aer_simulator'),\n",
       " AerSimulator('aer_simulator'),\n",
       " AerSimulator('aer_simulator'),\n",
       " AerSimulator('aer_simulator'),\n",
       " QasmSimulator('qasm_simulator'),\n",
       " StatevectorSimulator('statevector_simulator'),\n",
       " UnitarySimulator('unitary_simulator')]"
      ]
     },
     "execution_count": 252,
     "metadata": {},
     "output_type": "execute_result"
    }
   ],
   "source": [
    "Aer.backends()\n"
   ]
  },
  {
   "cell_type": "code",
   "execution_count": 253,
   "id": "1b990846",
   "metadata": {},
   "outputs": [
    {
     "data": {
      "text/html": [
       "<pre style=\"word-wrap: normal;white-space: pre;background: #fff0;line-height: 1.1;font-family: &quot;Courier New&quot;,Courier,monospace\">              ┌───┐┌─────┐ ┌───┐                                       »\n",
       "     phase_0: ┤ H ├┤0    ├─┤ H ├─────────■─────────────────────────────»\n",
       "              ├───┤│     │┌┴───┴┐┌─────┐ │P(-π/2)  ┌───┐               »\n",
       "     phase_1: ┤ H ├┤     ├┤0    ├┤0    ├─■─────────┤ H ├───────────────»\n",
       "              ├───┤│     ││     ││     │ ┌─────┐  ┌┴───┴┐┌─────┐┌─────┐»\n",
       "     phase_2: ┤ H ├┤     ├┤     ├┤     ├─┤0    ├──┤0    ├┤0    ├┤0    ├»\n",
       "              ├───┤│     ││     ││     │ │     │  │     ││     ││     │»\n",
       "     phase_3: ┤ H ├┤  CU ├┤     ├┤     ├─┤     ├──┤     ├┤     ├┤     ├»\n",
       "              └───┘│     ││  CU ││  CU │ │     │  │     ││     ││     │»\n",
       "eigenstate_0: ─────┤1    ├┤1    ├┤1    ├─┤1 CU ├──┤1 CU ├┤1 CU ├┤1 CU ├»\n",
       "                   │     ││     ││     │ │     │  │     ││     ││     │»\n",
       "eigenstate_1: ─────┤2    ├┤2    ├┤2    ├─┤2    ├──┤2    ├┤2    ├┤2    ├»\n",
       "                   │     ││     ││     │ │     │  │     ││     ││     │»\n",
       "eigenstate_2: ─────┤3    ├┤3    ├┤3    ├─┤3    ├──┤3    ├┤3    ├┤3    ├»\n",
       "                   └─────┘└─────┘└─────┘ └─────┘  └─────┘└─────┘└─────┘»\n",
       "    output: 4/═════════════════════════════════════════════════════════»\n",
       "                                                                       »\n",
       "«                                                                            »\n",
       "«     phase_0: ─■────────────────────────────────────────────────────────────»\n",
       "«               │                                                            »\n",
       "«     phase_1: ─┼─────────■──────────────────────────────────────────────────»\n",
       "«               │P(-π/4)  │P(-π/2)  ┌───┐                                    »\n",
       "«     phase_2: ─■─────────■─────────┤ H ├────────────────────────────────────»\n",
       "«               ┌─────┐   ┌─────┐  ┌┴───┴┐┌─────┐┌─────┐┌─────┐┌─────┐┌─────┐»\n",
       "«     phase_3: ─┤0    ├───┤0    ├──┤0    ├┤0    ├┤0    ├┤0    ├┤0    ├┤0    ├»\n",
       "«               │     │   │     │  │     ││     ││     ││     ││     ││     │»\n",
       "«eigenstate_0: ─┤1    ├───┤1    ├──┤1    ├┤1    ├┤1    ├┤1    ├┤1    ├┤1    ├»\n",
       "«               │  CU │   │  CU │  │  CU ││  CU ││  CU ││  CU ││  CU ││  CU │»\n",
       "«eigenstate_1: ─┤2    ├───┤2    ├──┤2    ├┤2    ├┤2    ├┤2    ├┤2    ├┤2    ├»\n",
       "«               │     │   │     │  │     ││     ││     ││     ││     ││     │»\n",
       "«eigenstate_2: ─┤3    ├───┤3    ├──┤3    ├┤3    ├┤3    ├┤3    ├┤3    ├┤3    ├»\n",
       "«               └─────┘   └─────┘  └─────┘└─────┘└─────┘└─────┘└─────┘└─────┘»\n",
       "«    output: 4/══════════════════════════════════════════════════════════════»\n",
       "«                                                                            »\n",
       "«                                  ┌─┐                        \n",
       "«     phase_0: ─■──────────────────┤M├────────────────────────\n",
       "«               │                  └╥┘          ┌─┐           \n",
       "«     phase_1: ─┼─────────■─────────╫───────────┤M├───────────\n",
       "«               │         │         ║           └╥┘     ┌─┐   \n",
       "«     phase_2: ─┼─────────┼─────────╫──■─────────╫──────┤M├───\n",
       "«               │P(-π/8)  │P(-π/4)  ║  │P(-π/2)  ║ ┌───┐└╥┘┌─┐\n",
       "«     phase_3: ─■─────────■─────────╫──■─────────╫─┤ H ├─╫─┤M├\n",
       "«                                   ║            ║ └───┘ ║ └╥┘\n",
       "«eigenstate_0: ─────────────────────╫────────────╫───────╫──╫─\n",
       "«                                   ║            ║       ║  ║ \n",
       "«eigenstate_1: ─────────────────────╫────────────╫───────╫──╫─\n",
       "«                                   ║            ║       ║  ║ \n",
       "«eigenstate_2: ─────────────────────╫────────────╫───────╫──╫─\n",
       "«                                   ║            ║       ║  ║ \n",
       "«    output: 4/═════════════════════╩════════════╩═══════╩══╩═\n",
       "«                                   0            1       2  3 </pre>"
      ],
      "text/plain": [
       "              ┌───┐┌─────┐ ┌───┐                                       »\n",
       "     phase_0: ┤ H ├┤0    ├─┤ H ├─────────■─────────────────────────────»\n",
       "              ├───┤│     │┌┴───┴┐┌─────┐ │P(-π/2)  ┌───┐               »\n",
       "     phase_1: ┤ H ├┤     ├┤0    ├┤0    ├─■─────────┤ H ├───────────────»\n",
       "              ├───┤│     ││     ││     │ ┌─────┐  ┌┴───┴┐┌─────┐┌─────┐»\n",
       "     phase_2: ┤ H ├┤     ├┤     ├┤     ├─┤0    ├──┤0    ├┤0    ├┤0    ├»\n",
       "              ├───┤│     ││     ││     │ │     │  │     ││     ││     │»\n",
       "     phase_3: ┤ H ├┤  CU ├┤     ├┤     ├─┤     ├──┤     ├┤     ├┤     ├»\n",
       "              └───┘│     ││  CU ││  CU │ │     │  │     ││     ││     │»\n",
       "eigenstate_0: ─────┤1    ├┤1    ├┤1    ├─┤1 CU ├──┤1 CU ├┤1 CU ├┤1 CU ├»\n",
       "                   │     ││     ││     │ │     │  │     ││     ││     │»\n",
       "eigenstate_1: ─────┤2    ├┤2    ├┤2    ├─┤2    ├──┤2    ├┤2    ├┤2    ├»\n",
       "                   │     ││     ││     │ │     │  │     ││     ││     │»\n",
       "eigenstate_2: ─────┤3    ├┤3    ├┤3    ├─┤3    ├──┤3    ├┤3    ├┤3    ├»\n",
       "                   └─────┘└─────┘└─────┘ └─────┘  └─────┘└─────┘└─────┘»\n",
       "    output: 4/═════════════════════════════════════════════════════════»\n",
       "                                                                       »\n",
       "«                                                                            »\n",
       "«     phase_0: ─■────────────────────────────────────────────────────────────»\n",
       "«               │                                                            »\n",
       "«     phase_1: ─┼─────────■──────────────────────────────────────────────────»\n",
       "«               │P(-π/4)  │P(-π/2)  ┌───┐                                    »\n",
       "«     phase_2: ─■─────────■─────────┤ H ├────────────────────────────────────»\n",
       "«               ┌─────┐   ┌─────┐  ┌┴───┴┐┌─────┐┌─────┐┌─────┐┌─────┐┌─────┐»\n",
       "«     phase_3: ─┤0    ├───┤0    ├──┤0    ├┤0    ├┤0    ├┤0    ├┤0    ├┤0    ├»\n",
       "«               │     │   │     │  │     ││     ││     ││     ││     ││     │»\n",
       "«eigenstate_0: ─┤1    ├───┤1    ├──┤1    ├┤1    ├┤1    ├┤1    ├┤1    ├┤1    ├»\n",
       "«               │  CU │   │  CU │  │  CU ││  CU ││  CU ││  CU ││  CU ││  CU │»\n",
       "«eigenstate_1: ─┤2    ├───┤2    ├──┤2    ├┤2    ├┤2    ├┤2    ├┤2    ├┤2    ├»\n",
       "«               │     │   │     │  │     ││     ││     ││     ││     ││     │»\n",
       "«eigenstate_2: ─┤3    ├───┤3    ├──┤3    ├┤3    ├┤3    ├┤3    ├┤3    ├┤3    ├»\n",
       "«               └─────┘   └─────┘  └─────┘└─────┘└─────┘└─────┘└─────┘└─────┘»\n",
       "«    output: 4/══════════════════════════════════════════════════════════════»\n",
       "«                                                                            »\n",
       "«                                  ┌─┐                        \n",
       "«     phase_0: ─■──────────────────┤M├────────────────────────\n",
       "«               │                  └╥┘          ┌─┐           \n",
       "«     phase_1: ─┼─────────■─────────╫───────────┤M├───────────\n",
       "«               │         │         ║           └╥┘     ┌─┐   \n",
       "«     phase_2: ─┼─────────┼─────────╫──■─────────╫──────┤M├───\n",
       "«               │P(-π/8)  │P(-π/4)  ║  │P(-π/2)  ║ ┌───┐└╥┘┌─┐\n",
       "«     phase_3: ─■─────────■─────────╫──■─────────╫─┤ H ├─╫─┤M├\n",
       "«                                   ║            ║ └───┘ ║ └╥┘\n",
       "«eigenstate_0: ─────────────────────╫────────────╫───────╫──╫─\n",
       "«                                   ║            ║       ║  ║ \n",
       "«eigenstate_1: ─────────────────────╫────────────╫───────╫──╫─\n",
       "«                                   ║            ║       ║  ║ \n",
       "«eigenstate_2: ─────────────────────╫────────────╫───────╫──╫─\n",
       "«                                   ║            ║       ║  ║ \n",
       "«    output: 4/═════════════════════╩════════════╩═══════╩══╩═\n",
       "«                                   0            1       2  3 "
      ]
     },
     "execution_count": 253,
     "metadata": {},
     "output_type": "execute_result"
    }
   ],
   "source": [
    "simulator = Aer.get_backend('qasm_simulator')\n",
    "qc = transpile(qc, simulator)  #### Doesnt like the inverse Quantum Fourier transform without decomposition\n",
    "qc.draw()"
   ]
  },
  {
   "cell_type": "code",
   "execution_count": 254,
   "id": "a1e2cd3b",
   "metadata": {},
   "outputs": [
    {
     "data": {
      "image/png": "[encoded data removed]",
      "text/plain": [
       "<Figure size 700x500 with 1 Axes>"
      ]
     },
     "execution_count": 254,
     "metadata": {},
     "output_type": "execute_result"
    }
   ],
   "source": [
    "result = simulator.run(qc).result()\n",
    "counts = result.get_counts(qc)\n",
    "plot_histogram(counts, title='check')\n"
   ]
  },
  {
   "cell_type": "code",
   "execution_count": 255,
   "id": "fe27862f",
   "metadata": {},
   "outputs": [
    {
     "data": {
      "text/plain": [
       "'1100'"
      ]
     },
     "execution_count": 255,
     "metadata": {},
     "output_type": "execute_result"
    }
   ],
   "source": [
    "max(counts, key=counts.get)\n"
   ]
  },
  {
   "cell_type": "code",
   "execution_count": 256,
   "id": "6da87216",
   "metadata": {},
   "outputs": [],
   "source": [
    "def bitstring_converter(string):\n",
    "    \n",
    "    values = []\n",
    "    value = 0\n",
    "    j = 0\n",
    "    for i, v in enumerate(string):\n",
    "        \n",
    "        if v == '1':\n",
    "            value += 1/(2**(i+1-j))\n",
    "        elif v == \" \":\n",
    "            values.append(value)\n",
    "            value = 0\n",
    "            j = i+1\n",
    "            \n",
    "        if i == len(string)-1:\n",
    "            values.append(value)\n",
    "    \n",
    "    return values\n",
    "\n"
   ]
  },
  {
   "cell_type": "code",
   "execution_count": 257,
   "id": "a34dd65a",
   "metadata": {},
   "outputs": [
    {
     "name": "stdout",
     "output_type": "stream",
     "text": [
      "predicted: [0.75]\n"
     ]
    }
   ],
   "source": [
    "answer = bitstring_converter(max(counts, key=counts.get))\n",
    "\n",
    "print('predicted: {}'.format(answer))"
   ]
  },
  {
   "cell_type": "code",
   "execution_count": 258,
   "id": "822972bb",
   "metadata": {},
   "outputs": [
    {
     "name": "stdout",
     "output_type": "stream",
     "text": [
      "actual: 0.0\n"
     ]
    }
   ],
   "source": [
    "\n",
    "print('actual: {}'.format(phases[e]))"
   ]
  },
  {
   "cell_type": "code",
   "execution_count": 259,
   "id": "eb160871",
   "metadata": {},
   "outputs": [
    {
     "data": {
      "text/plain": [
       "array([0.    , 0.0625, 0.125 , 0.1875, 0.25  , 0.3125, 0.375 , 0.4375,\n",
       "       0.5   , 0.5625, 0.625 , 0.6875, 0.75  , 0.8125, 0.875 , 0.9375])"
      ]
     },
     "execution_count": 259,
     "metadata": {},
     "output_type": "execute_result"
    }
   ],
   "source": [
    "np.arange(0,1, 1/(2**(n)))\n"
   ]
  },
  {
   "cell_type": "code",
   "execution_count": null,
   "id": "38115f78",
   "metadata": {},
   "outputs": [],
   "source": []
  },
  {
   "cell_type": "code",
   "execution_count": null,
   "id": "a2b51acd",
   "metadata": {},
   "outputs": [],
   "source": []
  },
  {
   "cell_type": "code",
   "execution_count": null,
   "id": "3277c214",
   "metadata": {},
   "outputs": [],
   "source": []
  },
  {
   "cell_type": "code",
   "execution_count": null,
   "id": "19efe7c0",
   "metadata": {},
   "outputs": [],
   "source": []
  }
 ],
 "metadata": {
  "kernelspec": {
   "display_name": "Python 3 (ipykernel)",
   "language": "python",
   "name": "python3"
  },
  "language_info": {
   "codemirror_mode": {
    "name": "ipython",
    "version": 3
   },
   "file_extension": ".py",
   "mimetype": "text/x-python",
   "name": "python",
   "nbconvert_exporter": "python",
   "pygments_lexer": "ipython3",
   "version": "3.10.8"
  }
 },
 "nbformat": 4,
 "nbformat_minor": 5
}
